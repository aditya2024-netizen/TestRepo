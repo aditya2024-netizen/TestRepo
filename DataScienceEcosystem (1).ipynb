{
  "metadata": {
    "kernelspec": {
      "name": "python",
      "display_name": "Python (Pyodide)",
      "language": "python"
    },
    "language_info": {
      "codemirror_mode": {
        "name": "python",
        "version": 3
      },
      "file_extension": ".py",
      "mimetype": "text/x-python",
      "name": "python",
      "nbconvert_exporter": "python",
      "pygments_lexer": "ipython3",
      "version": "3.8"
    }
  },
  "nbformat_minor": 5,
  "nbformat": 4,
  "cells": [
    {
      "id": "8b92bb55-775f-46e5-a3d8-2100d0cda8a1",
      "cell_type": "markdown",
      "source": "# Data Science Tools and Ecosystem",
      "metadata": {}
    },
    {
      "id": "804a02ef-d256-4383-98c0-ad343d768cf7",
      "cell_type": "markdown",
      "source": "#### In this notebook, Data Science Tools and Ecosytem are summarized.",
      "metadata": {}
    },
    {
      "id": "5a5bf018-1293-4516-9f5e-5ddb5a79ade8",
      "cell_type": "markdown",
      "source": "__Objectives:__\n- Popular languages for Data Science\n- Commonly used libraries by Data  scientists\n- Few Examples of evaluating arithmetic expressions in python",
      "metadata": {}
    },
    {
      "id": "299e5383-2e00-45e1-b15e-71928bd136d0",
      "cell_type": "markdown",
      "source": "## Some of the popular languages that Data Scientists use are:\n#### 1. Python\n#### 2. SQL\n#### 3. R-laguage\n#### 4. Julia",
      "metadata": {}
    },
    {
      "id": "96765b63-a9fc-4038-b940-8f8f703b841e",
      "cell_type": "markdown",
      "source": "## Some of the commmonly used libraries used by Data Scientists include:\n#### 1. ggplot\n#### 2. Pandas\n#### 3. scipy\n#### 4. scikit-learn\n#### 5. Numpy\n#### 6. matplotlib\n#### 7. Tensorflow\n#### 8. Caret\n",
      "metadata": {}
    },
    {
      "id": "44824622-0a68-40b4-b271-24ad63cdcf37",
      "cell_type": "markdown",
      "source": "|Data Science Tools|\n|---|\n|Jupyter|\n|R studio|\n|Python|\n\n",
      "metadata": {}
    },
    {
      "id": "23868487-7de2-4f79-8c23-02985e9b0665",
      "cell_type": "markdown",
      "source": "### Below are a few examples of evaluating arithmetic expressions in Python",
      "metadata": {}
    },
    {
      "id": "011eb632-4f31-4155-8ff6-44d72cccbcd4",
      "cell_type": "code",
      "source": "#This is a simple arithmetic expression to multiply and add integers\n(3*4)+5",
      "metadata": {
        "trusted": true
      },
      "outputs": [
        {
          "execution_count": 2,
          "output_type": "execute_result",
          "data": {
            "text/plain": "17"
          },
          "metadata": {}
        }
      ],
      "execution_count": 2
    },
    {
      "id": "80b6e697-33dd-42f7-80d8-ea4d8c65b220",
      "cell_type": "code",
      "source": "#This will convert 200 minutes to hours by dividing by 60\n200/60",
      "metadata": {
        "trusted": true
      },
      "outputs": [
        {
          "execution_count": 3,
          "output_type": "execute_result",
          "data": {
            "text/plain": "3.3333333333333335"
          },
          "metadata": {}
        }
      ],
      "execution_count": 3
    },
    {
      "id": "2cd23453-de62-48f2-9834-0144562c3336",
      "cell_type": "markdown",
      "source": "## Author\n## Aditya Mishra k",
      "metadata": {}
    },
    {
      "id": "70ae720b-6613-4744-8fac-835cd45685c9",
      "cell_type": "code",
      "source": "",
      "metadata": {
        "trusted": true
      },
      "outputs": [],
      "execution_count": null
    }
  ]
}